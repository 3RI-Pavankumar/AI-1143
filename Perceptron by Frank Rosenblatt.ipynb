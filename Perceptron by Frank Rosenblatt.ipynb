{
 "cells": [
  {
   "cell_type": "code",
   "execution_count": 1,
   "id": "3d939d80-0cf1-49ef-bff6-8548c4514093",
   "metadata": {},
   "outputs": [],
   "source": [
    "import numpy as np"
   ]
  },
  {
   "cell_type": "code",
   "execution_count": 2,
   "id": "19eab437-62bd-4cdb-8ca3-9bd8b90b2085",
   "metadata": {},
   "outputs": [],
   "source": [
    "class Perceptron:\n",
    "    def __init__(self, inp_dim, learning_rate, epochs):\n",
    "        self.lr = learning_rate\n",
    "        self.epochs = epochs\n",
    "        self.weight = np.random.rand(inp_dim)\n",
    "        self.bias = np.random.rand()\n",
    "        \n",
    "    def step_function(self, x):\n",
    "        return 1 if x >= 12 else 0\n",
    "\n",
    "    def predict(self, input):\n",
    "        weighted_sum = np.dot(input, self.weight)+self.bias\n",
    "        return self.step_function(weighted_sum)\n",
    "\n",
    "    def fit(self, inp, out):\n",
    "        for i in range(self.epochs):\n",
    "            for j in range(len(inp)):\n",
    "                y_pred = self.predict(inp[j])\n",
    "                error = out[j] - y_pred\n",
    "\n",
    "                self.weight += (self.lr * error * inp[j])\n",
    "                self.bias += (self.lr * error)"
   ]
  },
  {
   "cell_type": "code",
   "execution_count": 3,
   "id": "e7567ad7-606f-4fb0-b18a-730bc0354e9b",
   "metadata": {},
   "outputs": [],
   "source": [
    "inp = np.array([[0, 0], [0, 1], [1, 0], [1, 1]])\n",
    "and_out = np.array([0, 0, 0, 1])"
   ]
  },
  {
   "cell_type": "code",
   "execution_count": 4,
   "id": "5867771f-638f-4a10-8281-cf41358fe468",
   "metadata": {},
   "outputs": [],
   "source": [
    "AND_Model = Perceptron(inp_dim=2, epochs=1000, learning_rate=0.5)"
   ]
  },
  {
   "cell_type": "code",
   "execution_count": 5,
   "id": "258ef590-77a4-4202-b6f0-ef57b949ba79",
   "metadata": {},
   "outputs": [],
   "source": [
    "AND_Model.fit(inp, and_out)"
   ]
  },
  {
   "cell_type": "code",
   "execution_count": 6,
   "id": "ae22d211-8513-461c-869a-9bed6b4b65a6",
   "metadata": {},
   "outputs": [
    {
     "data": {
      "text/plain": [
       "0"
      ]
     },
     "execution_count": 6,
     "metadata": {},
     "output_type": "execute_result"
    }
   ],
   "source": [
    "AND_Model.predict([0, 1])"
   ]
  },
  {
   "cell_type": "code",
   "execution_count": 7,
   "id": "b98e4eee-1ca2-4325-977d-9fe11bea0580",
   "metadata": {},
   "outputs": [
    {
     "data": {
      "text/plain": [
       "[0, 0, 0, 1]"
      ]
     },
     "execution_count": 7,
     "metadata": {},
     "output_type": "execute_result"
    }
   ],
   "source": [
    "[AND_Model.predict(i) for i in inp]"
   ]
  },
  {
   "cell_type": "code",
   "execution_count": null,
   "id": "89eaa907-efec-4171-91c8-e7b16532955b",
   "metadata": {},
   "outputs": [],
   "source": []
  },
  {
   "cell_type": "code",
   "execution_count": 8,
   "id": "849edebc-c389-49f0-abee-e6ac801a0272",
   "metadata": {},
   "outputs": [],
   "source": [
    "inp = np.array([[0, 0], [0, 1], [1, 0], [1, 1]])\n",
    "or_out = np.array([0, 1, 1, 1])"
   ]
  },
  {
   "cell_type": "code",
   "execution_count": 9,
   "id": "4733d60c-51ce-402a-b16a-558f96618f2c",
   "metadata": {},
   "outputs": [],
   "source": [
    "OR_Model = Perceptron(inp_dim=2, epochs=750, learning_rate=0.53)"
   ]
  },
  {
   "cell_type": "code",
   "execution_count": 10,
   "id": "89d1854e-9e0f-4726-86fa-0a6e7e9699d7",
   "metadata": {},
   "outputs": [],
   "source": [
    "OR_Model.fit(inp, or_out)"
   ]
  },
  {
   "cell_type": "code",
   "execution_count": 11,
   "id": "dc8f3804-43bf-43e1-a46d-411cf3c767f8",
   "metadata": {},
   "outputs": [
    {
     "data": {
      "text/plain": [
       "0"
      ]
     },
     "execution_count": 11,
     "metadata": {},
     "output_type": "execute_result"
    }
   ],
   "source": [
    "OR_Model.predict([0, 0])"
   ]
  },
  {
   "cell_type": "code",
   "execution_count": 12,
   "id": "51983040-86be-4860-aa91-fd55e77d6d3e",
   "metadata": {},
   "outputs": [
    {
     "data": {
      "text/plain": [
       "[0, 1, 1, 1]"
      ]
     },
     "execution_count": 12,
     "metadata": {},
     "output_type": "execute_result"
    }
   ],
   "source": [
    "[OR_Model.predict(i) for i in inp]"
   ]
  },
  {
   "cell_type": "code",
   "execution_count": 13,
   "id": "7aaa8d3e-fd2c-4546-a6ab-c8a22a707bce",
   "metadata": {},
   "outputs": [
    {
     "data": {
      "text/plain": [
       "(array([4.40852929, 4.3241938 ]), 4.0647961912621025)"
      ]
     },
     "execution_count": 13,
     "metadata": {},
     "output_type": "execute_result"
    }
   ],
   "source": [
    "AND_Model.weight, AND_Model.bias"
   ]
  },
  {
   "cell_type": "code",
   "execution_count": 14,
   "id": "64c8951b-c447-4371-b7db-b09888765052",
   "metadata": {},
   "outputs": [
    {
     "data": {
      "text/plain": [
       "(array([4.67116225, 4.8573736 ]), 7.530724549324114)"
      ]
     },
     "execution_count": 14,
     "metadata": {},
     "output_type": "execute_result"
    }
   ],
   "source": [
    "OR_Model.weight, OR_Model.bias"
   ]
  },
  {
   "cell_type": "code",
   "execution_count": null,
   "id": "871ef64e-fa39-40ce-af4f-a957b7742bbd",
   "metadata": {},
   "outputs": [],
   "source": []
  },
  {
   "cell_type": "code",
   "execution_count": 15,
   "id": "a25b050f-f67c-4e75-8f37-669438af113f",
   "metadata": {},
   "outputs": [],
   "source": [
    "inp = np.array([[0, 0], [0, 1], [1, 0], [1, 1]])\n",
    "xor_out = np.array([0, 1, 1, 0])"
   ]
  },
  {
   "cell_type": "code",
   "execution_count": 28,
   "id": "70439ca5-eb0d-4bb9-bf87-7f5b5d65fdcb",
   "metadata": {},
   "outputs": [],
   "source": [
    "XOR_Model = Perceptron(inp_dim=2, epochs=2000, learning_rate=1.53)"
   ]
  },
  {
   "cell_type": "code",
   "execution_count": 29,
   "id": "73e2a360-13d4-4b14-8ba7-9c501a0e33a7",
   "metadata": {},
   "outputs": [],
   "source": [
    "XOR_Model.fit(inp, xor_out)"
   ]
  },
  {
   "cell_type": "code",
   "execution_count": 30,
   "id": "58bcd047-46a9-4fca-ab88-570619648c78",
   "metadata": {},
   "outputs": [
    {
     "data": {
      "text/plain": [
       "0"
      ]
     },
     "execution_count": 30,
     "metadata": {},
     "output_type": "execute_result"
    }
   ],
   "source": [
    "XOR_Model.predict([1, 1])"
   ]
  },
  {
   "cell_type": "code",
   "execution_count": 31,
   "id": "d6e6c1de-0bb1-4849-a3e8-fa5482c48013",
   "metadata": {},
   "outputs": [
    {
     "data": {
      "text/plain": [
       "[1, 1, 0, 0]"
      ]
     },
     "execution_count": 31,
     "metadata": {},
     "output_type": "execute_result"
    }
   ],
   "source": [
    "[XOR_Model.predict(i) for i in inp]"
   ]
  },
  {
   "cell_type": "code",
   "execution_count": null,
   "id": "aa97cfb5-473f-4968-a162-85055cf1b9f5",
   "metadata": {},
   "outputs": [],
   "source": []
  },
  {
   "cell_type": "code",
   "execution_count": null,
   "id": "7aaec637-5428-4c3f-b8c1-2e388cc589fa",
   "metadata": {},
   "outputs": [],
   "source": []
  }
 ],
 "metadata": {
  "kernelspec": {
   "display_name": "Python 3 (ipykernel)",
   "language": "python",
   "name": "python3"
  },
  "language_info": {
   "codemirror_mode": {
    "name": "ipython",
    "version": 3
   },
   "file_extension": ".py",
   "mimetype": "text/x-python",
   "name": "python",
   "nbconvert_exporter": "python",
   "pygments_lexer": "ipython3",
   "version": "3.11.7"
  },
  "widgets": {
   "application/vnd.jupyter.widget-state+json": {
    "state": {},
    "version_major": 2,
    "version_minor": 0
   }
  }
 },
 "nbformat": 4,
 "nbformat_minor": 5
}
