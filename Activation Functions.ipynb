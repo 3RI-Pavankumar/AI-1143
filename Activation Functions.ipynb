{
 "cells": [
  {
   "cell_type": "code",
   "execution_count": 1,
   "id": "dc01690c-01f3-4f03-9cd9-60f8a4b87887",
   "metadata": {},
   "outputs": [],
   "source": [
    "import numpy as np"
   ]
  },
  {
   "cell_type": "code",
   "execution_count": 12,
   "id": "3cf12d11-f35c-4e4a-9363-54ee0d120565",
   "metadata": {},
   "outputs": [],
   "source": [
    "def ReLU(x):\n",
    "    return np.max([0, x])"
   ]
  },
  {
   "cell_type": "code",
   "execution_count": 13,
   "id": "4c75cce0-297d-465d-940e-8005364b8bdc",
   "metadata": {},
   "outputs": [],
   "source": [
    "ls = [-1, 0, 3, 5]"
   ]
  },
  {
   "cell_type": "code",
   "execution_count": 14,
   "id": "a3ce9d6b-c74c-44e4-a6ec-ec6ff02fa299",
   "metadata": {},
   "outputs": [
    {
     "name": "stdout",
     "output_type": "stream",
     "text": [
      "0\n",
      "0\n",
      "3\n",
      "5\n"
     ]
    }
   ],
   "source": [
    "for i in ls:\n",
    "    print(ReLU(i))"
   ]
  },
  {
   "cell_type": "code",
   "execution_count": 21,
   "id": "c1473b74-870c-454c-8608-8b0f82906dfe",
   "metadata": {},
   "outputs": [],
   "source": [
    "def softmax(arr):\n",
    "    return np.array([(np.exp(arr[i]) / np.sum(np.exp(arr))) for i in range(len(arr))])"
   ]
  },
  {
   "cell_type": "code",
   "execution_count": 22,
   "id": "aef73499-824d-4df5-8b0f-678f3e16e05e",
   "metadata": {},
   "outputs": [
    {
     "data": {
      "text/plain": [
       "array([0.01578405, 0.00580663, 0.11662925, 0.86178007])"
      ]
     },
     "execution_count": 22,
     "metadata": {},
     "output_type": "execute_result"
    }
   ],
   "source": [
    "softmax([1, 0, 3, 5])"
   ]
  },
  {
   "cell_type": "code",
   "execution_count": 23,
   "id": "3a90c007-e079-400a-a654-5758c2953ffb",
   "metadata": {},
   "outputs": [
    {
     "data": {
      "text/plain": [
       "1.0"
      ]
     },
     "execution_count": 23,
     "metadata": {},
     "output_type": "execute_result"
    }
   ],
   "source": [
    "np.sum([0.01578405, 0.00580663, 0.11662925, 0.86178007])"
   ]
  },
  {
   "cell_type": "code",
   "execution_count": null,
   "id": "1f7e3f48-1729-4c76-9330-fabdf181e230",
   "metadata": {},
   "outputs": [],
   "source": []
  }
 ],
 "metadata": {
  "kernelspec": {
   "display_name": "Python 3 (ipykernel)",
   "language": "python",
   "name": "python3"
  },
  "language_info": {
   "codemirror_mode": {
    "name": "ipython",
    "version": 3
   },
   "file_extension": ".py",
   "mimetype": "text/x-python",
   "name": "python",
   "nbconvert_exporter": "python",
   "pygments_lexer": "ipython3",
   "version": "3.11.7"
  },
  "widgets": {
   "application/vnd.jupyter.widget-state+json": {
    "state": {},
    "version_major": 2,
    "version_minor": 0
   }
  }
 },
 "nbformat": 4,
 "nbformat_minor": 5
}
