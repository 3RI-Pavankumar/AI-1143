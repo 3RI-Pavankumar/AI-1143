{
 "cells": [
  {
   "cell_type": "code",
   "execution_count": 1,
   "id": "dbfe877f-c675-4f3b-a95d-967c2d16690e",
   "metadata": {},
   "outputs": [],
   "source": [
    "import numpy as np"
   ]
  },
  {
   "cell_type": "code",
   "execution_count": 2,
   "id": "9bb24287-fe1e-42e8-9579-fc654d03f296",
   "metadata": {},
   "outputs": [],
   "source": [
    "inp = np.array([[0, 0], [0, 1], [1, 0], [1, 1]])\n",
    "out = np.array([0, 0, 0, 1])"
   ]
  },
  {
   "cell_type": "code",
   "execution_count": 3,
   "id": "1ed04bdc-d9fc-42ec-9b30-c4cc54f4fb9d",
   "metadata": {},
   "outputs": [
    {
     "data": {
      "text/plain": [
       "(array([[0, 0],\n",
       "        [0, 1],\n",
       "        [1, 0],\n",
       "        [1, 1]]),\n",
       " array([0, 0, 0, 1]))"
      ]
     },
     "execution_count": 3,
     "metadata": {},
     "output_type": "execute_result"
    }
   ],
   "source": [
    "inp, out"
   ]
  },
  {
   "cell_type": "code",
   "execution_count": 4,
   "id": "bdab7b43-abc2-462b-b165-f617a9d4690d",
   "metadata": {},
   "outputs": [],
   "source": [
    "threshold_and = 1.5"
   ]
  },
  {
   "cell_type": "code",
   "execution_count": 5,
   "id": "00131e21-b4e4-43a4-a796-2926729c2326",
   "metadata": {},
   "outputs": [
    {
     "data": {
      "text/plain": [
       "array([0, 0, 0, 1])"
      ]
     },
     "execution_count": 5,
     "metadata": {},
     "output_type": "execute_result"
    }
   ],
   "source": [
    "AND_Gate = np.array(list(map(lambda x: 1 if np.sum(x) > threshold_and else 0, inp)))\n",
    "AND_Gate"
   ]
  },
  {
   "cell_type": "code",
   "execution_count": 6,
   "id": "046b5978-f425-4093-9ab8-9feb07a685c9",
   "metadata": {},
   "outputs": [
    {
     "data": {
      "text/plain": [
       "True"
      ]
     },
     "execution_count": 6,
     "metadata": {},
     "output_type": "execute_result"
    }
   ],
   "source": [
    "np.allclose(out, AND_Gate)"
   ]
  },
  {
   "cell_type": "code",
   "execution_count": 7,
   "id": "ba0bf158-91a5-40c3-8481-23daed585aff",
   "metadata": {},
   "outputs": [],
   "source": [
    "inp = np.array([[0, 0], [0, 1], [1, 0], [1, 1]])\n",
    "out = np.array([0, 1, 1, 1])"
   ]
  },
  {
   "cell_type": "code",
   "execution_count": 8,
   "id": "bc49c669-94cb-4751-a8ba-0d9852f67533",
   "metadata": {},
   "outputs": [
    {
     "data": {
      "text/plain": [
       "(array([[0, 0],\n",
       "        [0, 1],\n",
       "        [1, 0],\n",
       "        [1, 1]]),\n",
       " array([0, 1, 1, 1]))"
      ]
     },
     "execution_count": 8,
     "metadata": {},
     "output_type": "execute_result"
    }
   ],
   "source": [
    "inp, out"
   ]
  },
  {
   "cell_type": "code",
   "execution_count": 9,
   "id": "5d09df15-27f0-4344-8d5b-202c63801e8f",
   "metadata": {},
   "outputs": [],
   "source": [
    "threshold_or = 0.5"
   ]
  },
  {
   "cell_type": "code",
   "execution_count": 10,
   "id": "69c35de3-91a5-4981-a53d-71e212c65e5d",
   "metadata": {},
   "outputs": [
    {
     "data": {
      "text/plain": [
       "array([0, 1, 1, 1])"
      ]
     },
     "execution_count": 10,
     "metadata": {},
     "output_type": "execute_result"
    }
   ],
   "source": [
    "OR_Gate = np.array(list(map(lambda x: 1 if np.sum(x) > 0.5 else 0, inp)))\n",
    "OR_Gate"
   ]
  },
  {
   "cell_type": "code",
   "execution_count": 11,
   "id": "4f941294-c29b-45a6-b2d7-102cd621866d",
   "metadata": {},
   "outputs": [
    {
     "data": {
      "text/plain": [
       "True"
      ]
     },
     "execution_count": 11,
     "metadata": {},
     "output_type": "execute_result"
    }
   ],
   "source": [
    "np.allclose(out, OR_Gate)"
   ]
  },
  {
   "cell_type": "code",
   "execution_count": null,
   "id": "0e651819-f736-42ab-a3aa-316caeeef484",
   "metadata": {},
   "outputs": [],
   "source": []
  }
 ],
 "metadata": {
  "kernelspec": {
   "display_name": "Python 3 (ipykernel)",
   "language": "python",
   "name": "python3"
  },
  "language_info": {
   "codemirror_mode": {
    "name": "ipython",
    "version": 3
   },
   "file_extension": ".py",
   "mimetype": "text/x-python",
   "name": "python",
   "nbconvert_exporter": "python",
   "pygments_lexer": "ipython3",
   "version": "3.11.7"
  },
  "widgets": {
   "application/vnd.jupyter.widget-state+json": {
    "state": {},
    "version_major": 2,
    "version_minor": 0
   }
  }
 },
 "nbformat": 4,
 "nbformat_minor": 5
}
