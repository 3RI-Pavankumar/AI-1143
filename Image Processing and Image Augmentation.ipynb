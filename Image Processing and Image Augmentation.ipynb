{
 "cells": [
  {
   "cell_type": "code",
   "execution_count": 1,
   "id": "319fb374-2e4f-4b70-906b-57e692e64086",
   "metadata": {},
   "outputs": [],
   "source": [
    "import numpy as np\n",
    "import cv2 as cv"
   ]
  },
  {
   "cell_type": "markdown",
   "id": "95ea3af4-fefc-4a0e-b231-a4a97abe96f6",
   "metadata": {},
   "source": [
    "## Reading Image"
   ]
  },
  {
   "cell_type": "code",
   "execution_count": 2,
   "id": "fe7dc315-f563-4695-8982-fc8e6086d5a3",
   "metadata": {},
   "outputs": [],
   "source": [
    "img = cv.imread(\"animal.png\")"
   ]
  },
  {
   "cell_type": "code",
   "execution_count": 3,
   "id": "9ca54e64-193d-43db-84c1-03d489c43b58",
   "metadata": {
    "scrolled": true
   },
   "outputs": [
    {
     "data": {
      "text/plain": [
       "array([[[255, 255, 255],\n",
       "        [255, 255, 255],\n",
       "        [255, 255, 255],\n",
       "        ...,\n",
       "        [255, 255, 255],\n",
       "        [255, 255, 255],\n",
       "        [255, 255, 255]],\n",
       "\n",
       "       [[255, 255, 255],\n",
       "        [255, 255, 255],\n",
       "        [255, 255, 255],\n",
       "        ...,\n",
       "        [255, 255, 255],\n",
       "        [255, 255, 255],\n",
       "        [255, 255, 255]],\n",
       "\n",
       "       [[255, 255, 255],\n",
       "        [255, 255, 255],\n",
       "        [255, 255, 255],\n",
       "        ...,\n",
       "        [255, 255, 255],\n",
       "        [255, 255, 255],\n",
       "        [255, 255, 255]],\n",
       "\n",
       "       ...,\n",
       "\n",
       "       [[255, 255, 255],\n",
       "        [255, 255, 255],\n",
       "        [255, 255, 255],\n",
       "        ...,\n",
       "        [255, 255, 255],\n",
       "        [255, 255, 255],\n",
       "        [255, 255, 255]],\n",
       "\n",
       "       [[255, 255, 255],\n",
       "        [255, 255, 255],\n",
       "        [255, 255, 255],\n",
       "        ...,\n",
       "        [255, 255, 255],\n",
       "        [255, 255, 255],\n",
       "        [255, 255, 255]],\n",
       "\n",
       "       [[255, 255, 255],\n",
       "        [255, 255, 255],\n",
       "        [255, 255, 255],\n",
       "        ...,\n",
       "        [255, 255, 255],\n",
       "        [255, 255, 255],\n",
       "        [255, 255, 255]]], dtype=uint8)"
      ]
     },
     "execution_count": 3,
     "metadata": {},
     "output_type": "execute_result"
    }
   ],
   "source": [
    "img"
   ]
  },
  {
   "cell_type": "code",
   "execution_count": 4,
   "id": "97f8824c-bbda-404e-9d43-58b79eba1f9c",
   "metadata": {
    "scrolled": true
   },
   "outputs": [
    {
     "data": {
      "text/plain": [
       "array([[[154, 134, 103],\n",
       "        [153, 133, 102],\n",
       "        [156, 135, 107],\n",
       "        ...,\n",
       "        [153, 129, 107],\n",
       "        [163, 139, 115],\n",
       "        [163, 139, 115]],\n",
       "\n",
       "       [[159, 139, 108],\n",
       "        [162, 142, 111],\n",
       "        [161, 140, 112],\n",
       "        ...,\n",
       "        [161, 137, 113],\n",
       "        [163, 139, 115],\n",
       "        [161, 137, 113]],\n",
       "\n",
       "       [[160, 140, 109],\n",
       "        [166, 146, 115],\n",
       "        [163, 142, 114],\n",
       "        ...,\n",
       "        [163, 139, 115],\n",
       "        [165, 141, 117],\n",
       "        [161, 137, 113]],\n",
       "\n",
       "       ...,\n",
       "\n",
       "       [[100,  89,  75],\n",
       "        [ 99,  88,  74],\n",
       "        [108,  95,  79],\n",
       "        ...,\n",
       "        [120,  98,  92],\n",
       "        [117,  98,  91],\n",
       "        [116,  96,  91]],\n",
       "\n",
       "       [[101,  90,  76],\n",
       "        [101,  88,  74],\n",
       "        [106,  93,  79],\n",
       "        ...,\n",
       "        [123, 106,  97],\n",
       "        [114,  99,  90],\n",
       "        [102,  86,  79]],\n",
       "\n",
       "       [[109,  95,  83],\n",
       "        [107,  93,  81],\n",
       "        [110,  94,  81],\n",
       "        ...,\n",
       "        [110,  98,  86],\n",
       "        [112, 103,  90],\n",
       "        [110, 100,  90]]], dtype=uint8)"
      ]
     },
     "execution_count": 4,
     "metadata": {},
     "output_type": "execute_result"
    }
   ],
   "source": [
    "demo_img = cv.imread(\"ship img.jpg\")\n",
    "demo_img"
   ]
  },
  {
   "cell_type": "markdown",
   "id": "46150c79-ab56-4690-885b-1cabf4fbca3f",
   "metadata": {},
   "source": [
    "## Showing Image"
   ]
  },
  {
   "cell_type": "code",
   "execution_count": 5,
   "id": "0cbd9f95-b2b7-4161-bbd8-a65c0ba0d262",
   "metadata": {},
   "outputs": [
    {
     "data": {
      "text/plain": [
       "-1"
      ]
     },
     "execution_count": 5,
     "metadata": {},
     "output_type": "execute_result"
    }
   ],
   "source": [
    "cv.imshow(\"Animal Image\", img)\n",
    "cv.waitKey(0)"
   ]
  },
  {
   "cell_type": "code",
   "execution_count": 6,
   "id": "3f26c2ef-8a28-46f5-a288-126fbba2b7d4",
   "metadata": {},
   "outputs": [
    {
     "data": {
      "text/plain": [
       "13"
      ]
     },
     "execution_count": 6,
     "metadata": {},
     "output_type": "execute_result"
    }
   ],
   "source": [
    "cv.imshow(\"Ship Image\", demo_img)\n",
    "cv.waitKey(0)"
   ]
  },
  {
   "cell_type": "markdown",
   "id": "fd4eb18f-5cb1-4347-8918-596cc224f8ad",
   "metadata": {},
   "source": [
    "## Resizing Image"
   ]
  },
  {
   "cell_type": "code",
   "execution_count": 7,
   "id": "0a88fd0e-3ca4-4fca-83a1-8c8a9b03feec",
   "metadata": {},
   "outputs": [
    {
     "data": {
      "text/plain": [
       "(807, 672, 3)"
      ]
     },
     "execution_count": 7,
     "metadata": {},
     "output_type": "execute_result"
    }
   ],
   "source": [
    "img.shape"
   ]
  },
  {
   "cell_type": "code",
   "execution_count": 8,
   "id": "edf66129-1e14-4bd7-8ed4-89734c0fbf66",
   "metadata": {},
   "outputs": [],
   "source": [
    "height, width, _ = img.shape"
   ]
  },
  {
   "cell_type": "code",
   "execution_count": 9,
   "id": "dd600fa8-50b5-4b19-878c-4adb99eb99ec",
   "metadata": {},
   "outputs": [
    {
     "data": {
      "text/plain": [
       "(807, 672)"
      ]
     },
     "execution_count": 9,
     "metadata": {},
     "output_type": "execute_result"
    }
   ],
   "source": [
    "height, width"
   ]
  },
  {
   "cell_type": "code",
   "execution_count": 10,
   "id": "c424c95c-b512-4286-a112-89bc7a74a2a0",
   "metadata": {},
   "outputs": [],
   "source": [
    "resized_img = cv.resize(img, (int(width*0.75), int(height*0.75)))"
   ]
  },
  {
   "cell_type": "code",
   "execution_count": 11,
   "id": "c5e7733c-6bf3-4e78-8b70-657e010d77c4",
   "metadata": {},
   "outputs": [
    {
     "data": {
      "text/plain": [
       "-1"
      ]
     },
     "execution_count": 11,
     "metadata": {},
     "output_type": "execute_result"
    }
   ],
   "source": [
    "cv.imshow(\"Resized Image\", resized_img)\n",
    "cv.waitKey(0)"
   ]
  },
  {
   "cell_type": "markdown",
   "id": "d72a0d99-5aeb-4fbe-95bd-b2773341299f",
   "metadata": {},
   "source": [
    "## Changing Colors of Image"
   ]
  },
  {
   "cell_type": "code",
   "execution_count": 12,
   "id": "770ad377-1ed9-4dbe-ae8d-3a6e22722a2a",
   "metadata": {},
   "outputs": [],
   "source": [
    "blue_img = resized_img.copy()\n",
    "blue_img[:,:,1:]=0"
   ]
  },
  {
   "cell_type": "code",
   "execution_count": 13,
   "id": "be9bfc92-3fa9-40f0-b0ac-9782f83c80cd",
   "metadata": {},
   "outputs": [
    {
     "data": {
      "text/plain": [
       "-1"
      ]
     },
     "execution_count": 13,
     "metadata": {},
     "output_type": "execute_result"
    }
   ],
   "source": [
    "cv.imshow(\"Blue Image\", blue_img)\n",
    "cv.waitKey(0)"
   ]
  },
  {
   "cell_type": "code",
   "execution_count": 14,
   "id": "c505f8b1-9700-4433-95a9-6b62183c9d59",
   "metadata": {},
   "outputs": [
    {
     "data": {
      "text/plain": [
       "-1"
      ]
     },
     "execution_count": 14,
     "metadata": {},
     "output_type": "execute_result"
    }
   ],
   "source": [
    "red_img = resized_img.copy()\n",
    "red_img[:,:,:2]=0\n",
    "cv.imshow(\"Red Image\", red_img)\n",
    "cv.waitKey(0)"
   ]
  },
  {
   "cell_type": "code",
   "execution_count": 15,
   "id": "319317c9-78c0-4dc1-8ee8-6884353baf92",
   "metadata": {},
   "outputs": [
    {
     "data": {
      "text/plain": [
       "-1"
      ]
     },
     "execution_count": 15,
     "metadata": {},
     "output_type": "execute_result"
    }
   ],
   "source": [
    "green_img = resized_img.copy()\n",
    "green_img[:,:,[0, 2]]=0\n",
    "cv.imshow(\"Green Image\", green_img)\n",
    "cv.waitKey(0)"
   ]
  },
  {
   "cell_type": "markdown",
   "id": "ead88a44-fd66-4c8a-86af-24ea0509cb4b",
   "metadata": {},
   "source": [
    "## Stacking of Image"
   ]
  },
  {
   "cell_type": "code",
   "execution_count": 16,
   "id": "8e91496e-e7ad-441f-812f-e0bf095e5518",
   "metadata": {},
   "outputs": [],
   "source": [
    "stacked_img = np.hstack([blue_img, green_img, red_img])"
   ]
  },
  {
   "cell_type": "code",
   "execution_count": 17,
   "id": "bf02d676-254a-41ec-8983-48f932e931b4",
   "metadata": {},
   "outputs": [
    {
     "data": {
      "text/plain": [
       "-1"
      ]
     },
     "execution_count": 17,
     "metadata": {},
     "output_type": "execute_result"
    }
   ],
   "source": [
    "cv.imshow(\"All Color Image\", stacked_img)\n",
    "cv.waitKey(0)"
   ]
  },
  {
   "cell_type": "markdown",
   "id": "15189748-75bb-43f4-9466-a320029dfb60",
   "metadata": {},
   "source": [
    "## Converting image in Grayscale"
   ]
  },
  {
   "cell_type": "code",
   "execution_count": 18,
   "id": "e8aac775-563f-4819-a56d-498819020c78",
   "metadata": {},
   "outputs": [],
   "source": [
    "gray_img = cv.cvtColor(resized_img, cv.COLOR_BGR2GRAY)"
   ]
  },
  {
   "cell_type": "code",
   "execution_count": 19,
   "id": "b37ee133-3e1c-4493-8c82-68ae45610add",
   "metadata": {},
   "outputs": [
    {
     "data": {
      "text/plain": [
       "-1"
      ]
     },
     "execution_count": 19,
     "metadata": {},
     "output_type": "execute_result"
    }
   ],
   "source": [
    "cv.imshow(\"Gray Image\", gray_img)\n",
    "cv.waitKey(0)"
   ]
  },
  {
   "cell_type": "code",
   "execution_count": 20,
   "id": "f16e78dd-3ac8-4f5f-9ad2-10ab1aae70e4",
   "metadata": {},
   "outputs": [
    {
     "data": {
      "text/plain": [
       "-1"
      ]
     },
     "execution_count": 20,
     "metadata": {},
     "output_type": "execute_result"
    }
   ],
   "source": [
    "cv.imshow(\"Addition of Image\", blue_img+green_img+red_img)\n",
    "cv.waitKey(0)"
   ]
  },
  {
   "cell_type": "markdown",
   "id": "e49faf2e-2001-4543-bd48-c49ae625b84f",
   "metadata": {},
   "source": [
    "## Cropping the Image"
   ]
  },
  {
   "cell_type": "code",
   "execution_count": 21,
   "id": "791b4ea0-4c8c-4ba9-8563-c393e07186d9",
   "metadata": {},
   "outputs": [],
   "source": [
    "cropped_img = resized_img[25:200, :170]"
   ]
  },
  {
   "cell_type": "code",
   "execution_count": 22,
   "id": "8e1bb820-c99f-4998-b638-7ea41eb05fcb",
   "metadata": {},
   "outputs": [
    {
     "data": {
      "text/plain": [
       "-1"
      ]
     },
     "execution_count": 22,
     "metadata": {},
     "output_type": "execute_result"
    }
   ],
   "source": [
    "cv.imshow(\"Cropped Image\", cropped_img)\n",
    "cv.waitKey(0)"
   ]
  },
  {
   "cell_type": "markdown",
   "id": "696bb83c-07ed-4573-856e-032b5a15b18f",
   "metadata": {},
   "source": [
    "## Rotating the Image"
   ]
  },
  {
   "cell_type": "code",
   "execution_count": 23,
   "id": "5717e761-6b75-4d38-940f-c2347b198c86",
   "metadata": {},
   "outputs": [
    {
     "data": {
      "text/plain": [
       "(605, 504)"
      ]
     },
     "execution_count": 23,
     "metadata": {},
     "output_type": "execute_result"
    }
   ],
   "source": [
    "(h, w) = resized_img.shape[:2]\n",
    "h, w"
   ]
  },
  {
   "cell_type": "code",
   "execution_count": 24,
   "id": "84781029-022b-4df6-8f1e-3bce55af145e",
   "metadata": {},
   "outputs": [
    {
     "data": {
      "text/plain": [
       "(252, 302)"
      ]
     },
     "execution_count": 24,
     "metadata": {},
     "output_type": "execute_result"
    }
   ],
   "source": [
    "center = (w//2, h//2)\n",
    "center"
   ]
  },
  {
   "cell_type": "code",
   "execution_count": 25,
   "id": "9c3e6242-c968-4d3b-98af-e1838591521f",
   "metadata": {},
   "outputs": [],
   "source": [
    "rotation_matrix = cv.getRotationMatrix2D(center, 60, 0.7)"
   ]
  },
  {
   "cell_type": "code",
   "execution_count": 26,
   "id": "f1ab9b74-7f26-40ad-a728-493bb56c7a25",
   "metadata": {},
   "outputs": [],
   "source": [
    "rotate_img = cv.warpAffine(resized_img, rotation_matrix, (w, h))"
   ]
  },
  {
   "cell_type": "code",
   "execution_count": 89,
   "id": "f7cc14f1-8beb-43d8-8571-45910cd096e6",
   "metadata": {},
   "outputs": [
    {
     "ename": "error",
     "evalue": "OpenCV(4.9.0) :-1: error: (-5:Bad argument) in function 'imwrite'\n> Overload resolution failed:\n>  - imwrite() missing required argument 'img' (pos 2)\n>  - imwrite() missing required argument 'img' (pos 2)\n",
     "output_type": "error",
     "traceback": [
      "\u001b[1;31m---------------------------------------------------------------------------\u001b[0m",
      "\u001b[1;31merror\u001b[0m                                     Traceback (most recent call last)",
      "Cell \u001b[1;32mIn[89], line 2\u001b[0m\n\u001b[0;32m      1\u001b[0m cv\u001b[38;5;241m.\u001b[39mimshow(\u001b[38;5;124m\"\u001b[39m\u001b[38;5;124mRotate Image 45\u001b[39m\u001b[38;5;124m\"\u001b[39m, rotate_img)\n\u001b[1;32m----> 2\u001b[0m \u001b[43mcv\u001b[49m\u001b[38;5;241;43m.\u001b[39;49m\u001b[43mimwrite\u001b[49m\u001b[43m(\u001b[49m\u001b[38;5;124;43m\"\u001b[39;49m\u001b[38;5;124;43mRotated img.jpg\u001b[39;49m\u001b[38;5;124;43m\"\u001b[39;49m\u001b[43m)\u001b[49m\n\u001b[0;32m      3\u001b[0m cv\u001b[38;5;241m.\u001b[39mwaitKey(\u001b[38;5;241m0\u001b[39m)\n",
      "\u001b[1;31merror\u001b[0m: OpenCV(4.9.0) :-1: error: (-5:Bad argument) in function 'imwrite'\n> Overload resolution failed:\n>  - imwrite() missing required argument 'img' (pos 2)\n>  - imwrite() missing required argument 'img' (pos 2)\n"
     ]
    }
   ],
   "source": [
    "cv.imshow(\"Rotate Image 45\", rotate_img)\n",
    "cv.imwrite(\"Rotated img.jpg\", rotate_img)\n",
    "cv.waitKey(0)"
   ]
  },
  {
   "cell_type": "markdown",
   "id": "9213df5f-38da-4f5b-97c2-587bb2cd3e9c",
   "metadata": {},
   "source": [
    "## Blurring the Image"
   ]
  },
  {
   "cell_type": "code",
   "execution_count": 28,
   "id": "c200229f-76e6-4e19-9702-a270f4382ab1",
   "metadata": {},
   "outputs": [],
   "source": [
    "blurred_img = cv.GaussianBlur(resized_img, (11, 11), 0)"
   ]
  },
  {
   "cell_type": "code",
   "execution_count": 29,
   "id": "c8fc2f25-f7b2-4534-b20f-300c08d8ebf1",
   "metadata": {},
   "outputs": [
    {
     "data": {
      "text/plain": [
       "-1"
      ]
     },
     "execution_count": 29,
     "metadata": {},
     "output_type": "execute_result"
    }
   ],
   "source": [
    "cv.imshow(\"Blurred\", blurred_img)\n",
    "cv.waitKey(0)"
   ]
  },
  {
   "cell_type": "code",
   "execution_count": 30,
   "id": "123d0e00-da5c-4ba8-a174-a71eb7f0177f",
   "metadata": {},
   "outputs": [],
   "source": [
    "blur1 = cv.GaussianBlur(resized_img, (3, 3), 3)\n",
    "blur2 = cv.GaussianBlur(resized_img, (5, 5), 3)\n",
    "blue3 = cv.GaussianBlur(resized_img, (15, 15), 3)"
   ]
  },
  {
   "cell_type": "code",
   "execution_count": 31,
   "id": "23e7bfd9-9dec-4d73-a4bc-3f212ef3bf23",
   "metadata": {},
   "outputs": [],
   "source": [
    "blur_stack = np.hstack([blur1, blur2, blue3])"
   ]
  },
  {
   "cell_type": "code",
   "execution_count": 32,
   "id": "37e7a76a-ad16-4a03-bbd1-151c4dba8cba",
   "metadata": {},
   "outputs": [
    {
     "data": {
      "text/plain": [
       "-1"
      ]
     },
     "execution_count": 32,
     "metadata": {},
     "output_type": "execute_result"
    }
   ],
   "source": [
    "cv.imshow(\"All Blurred Images\", blur_stack)\n",
    "cv.waitKey(0)"
   ]
  },
  {
   "cell_type": "markdown",
   "id": "adfea0c1-843b-421f-bb63-6e4994766422",
   "metadata": {},
   "source": [
    "## Edge Detection using Canny"
   ]
  },
  {
   "cell_type": "code",
   "execution_count": 51,
   "id": "60b62d95-e3d4-4eca-8573-30bc7bf6ff78",
   "metadata": {},
   "outputs": [],
   "source": [
    "edges = cv.Canny(gray_img, 400, 600)"
   ]
  },
  {
   "cell_type": "code",
   "execution_count": 52,
   "id": "7d4e4a47-da83-475e-9839-190f34703118",
   "metadata": {},
   "outputs": [
    {
     "data": {
      "text/plain": [
       "-1"
      ]
     },
     "execution_count": 52,
     "metadata": {},
     "output_type": "execute_result"
    }
   ],
   "source": [
    "cv.imshow(\"Edges\", edges)\n",
    "cv.waitKey(0)"
   ]
  },
  {
   "cell_type": "code",
   "execution_count": 53,
   "id": "a281f736-a78a-4395-8581-582f77c54168",
   "metadata": {},
   "outputs": [],
   "source": [
    "edge1 = cv.Canny(gray_img, 100, 200)\n",
    "edge2 = cv.Canny(gray_img, 200, 300)\n",
    "edge3 = cv.Canny(gray_img, 300, 400)"
   ]
  },
  {
   "cell_type": "code",
   "execution_count": 54,
   "id": "c3595e98-7a81-41a3-a75a-dcf1d1aac30e",
   "metadata": {},
   "outputs": [],
   "source": [
    "edge_stack = np.hstack([edge1, edge2, edge3])"
   ]
  },
  {
   "cell_type": "code",
   "execution_count": 55,
   "id": "85ac8198-2353-4f19-8e5d-016323ae0f8d",
   "metadata": {},
   "outputs": [
    {
     "data": {
      "text/plain": [
       "-1"
      ]
     },
     "execution_count": 55,
     "metadata": {},
     "output_type": "execute_result"
    }
   ],
   "source": [
    "cv.imshow(\"All Edges Image\", edge_stack)\n",
    "cv.waitKey(0)"
   ]
  },
  {
   "cell_type": "markdown",
   "id": "b12610f8-622b-4a08-87a0-5c56af12d686",
   "metadata": {},
   "source": [
    "## Shear the Image"
   ]
  },
  {
   "cell_type": "code",
   "execution_count": 56,
   "id": "c1b9d746-e3f1-4acc-938b-00f838a18e52",
   "metadata": {},
   "outputs": [
    {
     "data": {
      "text/plain": [
       "(605, 504)"
      ]
     },
     "execution_count": 56,
     "metadata": {},
     "output_type": "execute_result"
    }
   ],
   "source": [
    "(h, w) = resized_img.shape[:2]\n",
    "h, w"
   ]
  },
  {
   "cell_type": "code",
   "execution_count": 71,
   "id": "fe6bbf0c-4ef9-4b9e-a76f-aa5375f4f0e1",
   "metadata": {},
   "outputs": [],
   "source": [
    "shear_factor = 0.5"
   ]
  },
  {
   "cell_type": "code",
   "execution_count": 78,
   "id": "85c108fa-3311-4e8b-8362-e30a3e494a67",
   "metadata": {},
   "outputs": [],
   "source": [
    "shear_matrix_x = np.float32([[1, shear_factor, 0], [0, 1, 0]])"
   ]
  },
  {
   "cell_type": "code",
   "execution_count": 79,
   "id": "8707817e-0ac1-4d9c-a8c5-2e16a6d7d08e",
   "metadata": {},
   "outputs": [],
   "source": [
    "sheared_img = cv.warpAffine(resized_img, shear_matrix_x, (w+int(shear_factor*h), h))"
   ]
  },
  {
   "cell_type": "code",
   "execution_count": 80,
   "id": "279241ef-4a25-48b5-b935-887d16ffee89",
   "metadata": {},
   "outputs": [
    {
     "data": {
      "text/plain": [
       "-1"
      ]
     },
     "execution_count": 80,
     "metadata": {},
     "output_type": "execute_result"
    }
   ],
   "source": [
    "cv.imshow(\"Sheared Image\", sheared_img)\n",
    "cv.waitKey(0)"
   ]
  },
  {
   "cell_type": "code",
   "execution_count": 81,
   "id": "6663f18e-1c9c-4a5e-9b81-fe8fed033812",
   "metadata": {},
   "outputs": [
    {
     "data": {
      "text/plain": [
       "-1"
      ]
     },
     "execution_count": 81,
     "metadata": {},
     "output_type": "execute_result"
    }
   ],
   "source": [
    "shear_matrix_x = np.float32([[1, 0, 0], [shear_factor, 1, 0]])\n",
    "sheared_img = cv.warpAffine(resized_img, shear_matrix_x, (w, h+int(shear_factor*w)))\n",
    "cv.imshow(\"Sheared Image\", sheared_img)\n",
    "cv.waitKey(0)"
   ]
  },
  {
   "cell_type": "markdown",
   "id": "ba10d7f7-3022-4aee-b213-2a37b8eb8df4",
   "metadata": {},
   "source": [
    "## Drawing shapes on Image"
   ]
  },
  {
   "cell_type": "code",
   "execution_count": 85,
   "id": "d7791b91-4860-418e-88d4-da73b9e56e8b",
   "metadata": {},
   "outputs": [
    {
     "data": {
      "text/plain": [
       "-1"
      ]
     },
     "execution_count": 85,
     "metadata": {},
     "output_type": "execute_result"
    }
   ],
   "source": [
    "cv.rectangle(resized_img, (0, 25),(200, 170), (0, 255, 0), 3)\n",
    "cv.imshow(\"Rectangle on Image\", resized_img)\n",
    "cv.waitKey(0)"
   ]
  },
  {
   "cell_type": "code",
   "execution_count": 86,
   "id": "e7f72d38-5a19-4546-99bd-254693d3e855",
   "metadata": {},
   "outputs": [
    {
     "data": {
      "text/plain": [
       "-1"
      ]
     },
     "execution_count": 86,
     "metadata": {},
     "output_type": "execute_result"
    }
   ],
   "source": [
    "cv.circle(resized_img, (300, 300), 70, (255, 0, 0), 3)\n",
    "cv.imshow(\"Circle on Image\", resized_img)\n",
    "cv.waitKey(0)"
   ]
  },
  {
   "cell_type": "code",
   "execution_count": 88,
   "id": "f53fa10b-2a4c-411c-8352-0345179e81e2",
   "metadata": {},
   "outputs": [
    {
     "data": {
      "text/plain": [
       "-1"
      ]
     },
     "execution_count": 88,
     "metadata": {},
     "output_type": "execute_result"
    }
   ],
   "source": [
    "cv.line(resized_img, (400, 300),(460, 500), (45, 25, 100), 3)\n",
    "cv.imshow(\"Line on Image\", resized_img)\n",
    "cv.waitKey(0)"
   ]
  },
  {
   "cell_type": "code",
   "execution_count": null,
   "id": "1611ada5-e6f3-4294-91d5-b2d6dab87c39",
   "metadata": {},
   "outputs": [],
   "source": []
  }
 ],
 "metadata": {
  "kernelspec": {
   "display_name": "Python 3 (ipykernel)",
   "language": "python",
   "name": "python3"
  },
  "language_info": {
   "codemirror_mode": {
    "name": "ipython",
    "version": 3
   },
   "file_extension": ".py",
   "mimetype": "text/x-python",
   "name": "python",
   "nbconvert_exporter": "python",
   "pygments_lexer": "ipython3",
   "version": "3.11.7"
  },
  "widgets": {
   "application/vnd.jupyter.widget-state+json": {
    "state": {},
    "version_major": 2,
    "version_minor": 0
   }
  }
 },
 "nbformat": 4,
 "nbformat_minor": 5
}
