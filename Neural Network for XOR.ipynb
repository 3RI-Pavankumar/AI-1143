{
 "cells": [
  {
   "cell_type": "code",
   "execution_count": 1,
   "id": "6cebf635-1d0f-44e1-a9e5-652ba79e3688",
   "metadata": {},
   "outputs": [],
   "source": [
    "import numpy as np"
   ]
  },
  {
   "cell_type": "code",
   "execution_count": 2,
   "id": "6121fc63-8b82-4886-aadd-47585800b652",
   "metadata": {},
   "outputs": [],
   "source": [
    "def sigmoid(x):\n",
    "    return 1/(1+np.exp(-x))"
   ]
  },
  {
   "cell_type": "code",
   "execution_count": 3,
   "id": "f155d88c-cba4-45da-a209-ed8453115263",
   "metadata": {},
   "outputs": [],
   "source": [
    "def sigmoid_derivative(x):\n",
    "    return x * (1-x)"
   ]
  },
  {
   "cell_type": "code",
   "execution_count": 4,
   "id": "bf07748f-1359-4c7f-89ad-7da87b2b5984",
   "metadata": {},
   "outputs": [],
   "source": [
    "inp_data = np.array([[0, 0], [0, 1], [1, 0], [1, 1]])\n",
    "out_data = np.array([[0], [1], [1], [0]])"
   ]
  },
  {
   "cell_type": "code",
   "execution_count": 5,
   "id": "46fc990f-6bcb-405c-ae70-dd0541932b9f",
   "metadata": {},
   "outputs": [
    {
     "data": {
      "text/plain": [
       "(array([[0, 0],\n",
       "        [0, 1],\n",
       "        [1, 0],\n",
       "        [1, 1]]),\n",
       " array([[0],\n",
       "        [1],\n",
       "        [1],\n",
       "        [0]]))"
      ]
     },
     "execution_count": 5,
     "metadata": {},
     "output_type": "execute_result"
    }
   ],
   "source": [
    "inp_data, out_data"
   ]
  },
  {
   "cell_type": "code",
   "execution_count": 6,
   "id": "65c9704a-da45-4e03-9bb8-351916e294ba",
   "metadata": {},
   "outputs": [],
   "source": [
    "inp_neurons = 2\n",
    "hid_neurons = 4\n",
    "out_neurons = 1"
   ]
  },
  {
   "cell_type": "code",
   "execution_count": 7,
   "id": "909a90a0-cc71-4d58-94a1-d2d30f6c5c28",
   "metadata": {},
   "outputs": [],
   "source": [
    "weights_input_hidden = 2 * np.random.random((inp_neurons, hid_neurons))-1\n",
    "weights_hidden_output = 2 * np.random.random((hid_neurons, out_neurons))-1"
   ]
  },
  {
   "cell_type": "code",
   "execution_count": 8,
   "id": "fa56974e-3bde-49cc-83b2-b449945233d2",
   "metadata": {},
   "outputs": [
    {
     "data": {
      "text/plain": [
       "array([[ 0.45109075, -0.66063534,  0.2409503 ,  0.55924662],\n",
       "       [ 0.70868826, -0.02846852, -0.39078254,  0.47932506]])"
      ]
     },
     "execution_count": 8,
     "metadata": {},
     "output_type": "execute_result"
    }
   ],
   "source": [
    "weights_input_hidden"
   ]
  },
  {
   "cell_type": "code",
   "execution_count": 9,
   "id": "96880191-6642-4afe-b1a6-7927a66086b7",
   "metadata": {},
   "outputs": [
    {
     "data": {
      "text/plain": [
       "array([[-0.63405834],\n",
       "       [ 0.75038695],\n",
       "       [-0.21215994],\n",
       "       [-0.79331647]])"
      ]
     },
     "execution_count": 9,
     "metadata": {},
     "output_type": "execute_result"
    }
   ],
   "source": [
    "weights_hidden_output"
   ]
  },
  {
   "cell_type": "code",
   "execution_count": 10,
   "id": "7d11804e-4720-46f9-9d7a-ed997ab5dd74",
   "metadata": {},
   "outputs": [],
   "source": [
    "epochs = 10000\n",
    "lr = 0.5"
   ]
  },
  {
   "cell_type": "code",
   "execution_count": 11,
   "id": "0e06d644-d9ce-40cc-a5f8-da6e6b35558f",
   "metadata": {},
   "outputs": [],
   "source": [
    "for i in range(epochs):\n",
    "    ## Feed Forward\n",
    "    hidden_layer_output = sigmoid(np.dot(inp_data, weights_input_hidden))\n",
    "    output_layer_output = sigmoid(np.dot(hidden_layer_output, weights_hidden_output))\n",
    "\n",
    "    ## Calculate Error of Output Layer\n",
    "    output_error = out_data - output_layer_output\n",
    "\n",
    "    ## Back-Propogation\n",
    "    delta_output_layer_output = output_error * sigmoid_derivative(output_layer_output)\n",
    "    new_output_layer_weights = lr * np.dot(hidden_layer_output.T, delta_output_layer_output)\n",
    "\n",
    "    ## Calculate Error of Hidden Layer\n",
    "    hidden_error = np.dot(delta_output_layer_output, weights_hidden_output.T)\n",
    "\n",
    "    ## Back-Propogation\n",
    "    delta_hidden_layer_output = hidden_error * sigmoid_derivative(hidden_layer_output)\n",
    "    new_hidden_layer_weights = lr * np.dot(inp_data.T, delta_hidden_layer_output)\n",
    "\n",
    "    ## Updating Weights \n",
    "    weights_input_hidden += new_hidden_layer_weights\n",
    "    weights_hidden_output += new_output_layer_weights"
   ]
  },
  {
   "cell_type": "code",
   "execution_count": 12,
   "id": "ec729ddf-dc6f-4321-940b-504a73953645",
   "metadata": {},
   "outputs": [],
   "source": [
    "hidden_layer_output = sigmoid(np.dot(inp_data, weights_input_hidden))\n",
    "output_layer_output = sigmoid(np.dot(hidden_layer_output, weights_hidden_output))"
   ]
  },
  {
   "cell_type": "code",
   "execution_count": 13,
   "id": "577ecabb-6d84-4a32-a5a4-f4415bd2aab0",
   "metadata": {},
   "outputs": [
    {
     "data": {
      "text/plain": [
       "array([[0.],\n",
       "       [1.],\n",
       "       [1.],\n",
       "       [0.]])"
      ]
     },
     "execution_count": 13,
     "metadata": {},
     "output_type": "execute_result"
    }
   ],
   "source": [
    "np.round(output_layer_output)"
   ]
  },
  {
   "cell_type": "code",
   "execution_count": 14,
   "id": "10ea76de-4275-40e6-8b6b-882c52a3af34",
   "metadata": {},
   "outputs": [
    {
     "data": {
      "text/plain": [
       "array([[0.03914592],\n",
       "       [0.96588608],\n",
       "       [0.96734693],\n",
       "       [0.02582113]])"
      ]
     },
     "execution_count": 14,
     "metadata": {},
     "output_type": "execute_result"
    }
   ],
   "source": [
    "output_layer_output"
   ]
  },
  {
   "cell_type": "code",
   "execution_count": 15,
   "id": "4a9171a6-1a43-4974-88dc-a4df3bfcb2c2",
   "metadata": {},
   "outputs": [
    {
     "data": {
      "text/plain": [
       "array([[-2.74275439, -7.35044177,  2.44700921, -5.08395137],\n",
       "       [ 5.37370078,  3.73631683, -4.74476894, -5.0258967 ]])"
      ]
     },
     "execution_count": 15,
     "metadata": {},
     "output_type": "execute_result"
    }
   ],
   "source": [
    "weights_input_hidden"
   ]
  },
  {
   "cell_type": "code",
   "execution_count": 16,
   "id": "992e35fb-be0a-43e4-b35f-b2bf21bf5644",
   "metadata": {},
   "outputs": [
    {
     "data": {
      "text/plain": [
       "array([[ -4.51665767],\n",
       "       [  8.08388116],\n",
       "       [  4.06706545],\n",
       "       [-14.03534174]])"
      ]
     },
     "execution_count": 16,
     "metadata": {},
     "output_type": "execute_result"
    }
   ],
   "source": [
    "weights_hidden_output"
   ]
  },
  {
   "cell_type": "code",
   "execution_count": null,
   "id": "08ba8e42-eb50-482e-b83c-f4fc8c0c118f",
   "metadata": {},
   "outputs": [],
   "source": []
  },
  {
   "cell_type": "code",
   "execution_count": null,
   "id": "8f3abc94-15c9-4bc4-863c-1c924324defa",
   "metadata": {},
   "outputs": [],
   "source": []
  }
 ],
 "metadata": {
  "kernelspec": {
   "display_name": "Python 3 (ipykernel)",
   "language": "python",
   "name": "python3"
  },
  "language_info": {
   "codemirror_mode": {
    "name": "ipython",
    "version": 3
   },
   "file_extension": ".py",
   "mimetype": "text/x-python",
   "name": "python",
   "nbconvert_exporter": "python",
   "pygments_lexer": "ipython3",
   "version": "3.11.7"
  },
  "widgets": {
   "application/vnd.jupyter.widget-state+json": {
    "state": {},
    "version_major": 2,
    "version_minor": 0
   }
  }
 },
 "nbformat": 4,
 "nbformat_minor": 5
}
